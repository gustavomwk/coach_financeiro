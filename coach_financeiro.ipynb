{
  "nbformat": 4,
  "nbformat_minor": 0,
  "metadata": {
    "colab": {
      "provenance": [],
      "authorship_tag": "ABX9TyOU4Ff9dTI2aSk+kjEjp3SL",
      "include_colab_link": true
    },
    "kernelspec": {
      "name": "python3",
      "display_name": "Python 3"
    },
    "language_info": {
      "name": "python"
    }
  },
  "cells": [
    {
      "cell_type": "markdown",
      "metadata": {
        "id": "view-in-github",
        "colab_type": "text"
      },
      "source": [
        "<a href=\"https://colab.research.google.com/github/gustavomwk/coach_financeiro/blob/main/coach_financeiro.ipynb\" target=\"_parent\"><img src=\"https://colab.research.google.com/assets/colab-badge.svg\" alt=\"Open In Colab\"/></a>"
      ]
    },
    {
      "cell_type": "markdown",
      "source": [
        "### Instalando Python SDK\n",
        "\n",
        "Instalando o SDK do google-gemini"
      ],
      "metadata": {
        "id": "FJH9XLrH4HaC"
      }
    },
    {
      "cell_type": "code",
      "execution_count": 96,
      "metadata": {
        "id": "71JHmoyp4AXE"
      },
      "outputs": [],
      "source": [
        "!pip install -q -U google-generativeai"
      ]
    },
    {
      "cell_type": "markdown",
      "source": [
        "Importando Pacotes Básicos:"
      ],
      "metadata": {
        "id": "KEVlV1Bd4YJi"
      }
    },
    {
      "cell_type": "code",
      "source": [
        "import pathlib\n",
        "import textwrap\n",
        "\n",
        "import google.generativeai as genai\n",
        "\n",
        "from IPython.display import display, Markdown, Latex\n",
        "\n",
        "def to_markdown(text):\n",
        "  text = text.replace('•', '  *')\n",
        "  return Markdown(textwrap.indent(text, '> ', predicate=lambda _: True))\n",
        "\n",
        "from google.colab import userdata"
      ],
      "metadata": {
        "id": "XxRPA7I14R2L"
      },
      "execution_count": 97,
      "outputs": []
    },
    {
      "cell_type": "code",
      "source": [
        "#habilite aqui API_KEY\n",
        "GOOGLE_API_KEY = userdata.get('GOOGLE_API_KEY')\n",
        "\n",
        "genai.configure(api_key=GOOGLE_API_KEY)"
      ],
      "metadata": {
        "id": "aU2rMtzZ4dEq"
      },
      "execution_count": 98,
      "outputs": []
    },
    {
      "cell_type": "code",
      "source": [
        "for m in genai.list_models():\n",
        "  if 'generateContent' in m.supported_generation_methods:\n",
        "    print(m.name)"
      ],
      "metadata": {
        "colab": {
          "base_uri": "https://localhost:8080/",
          "height": 139
        },
        "id": "nTeJATtj5r_n",
        "outputId": "f1b2a0a8-cd56-4d05-d150-4e9d307929bd"
      },
      "execution_count": 99,
      "outputs": [
        {
          "output_type": "stream",
          "name": "stdout",
          "text": [
            "models/gemini-1.0-pro\n",
            "models/gemini-1.0-pro-001\n",
            "models/gemini-1.0-pro-latest\n",
            "models/gemini-1.0-pro-vision-latest\n",
            "models/gemini-1.5-pro-latest\n",
            "models/gemini-pro\n",
            "models/gemini-pro-vision\n"
          ]
        }
      ]
    },
    {
      "cell_type": "code",
      "source": [],
      "metadata": {
        "id": "Ch8J3AVT5ylw"
      },
      "execution_count": 99,
      "outputs": []
    },
    {
      "cell_type": "code",
      "source": [
        "# Configuração do Modelo\n",
        "generation_config = {\n",
        "  \"temperature\": 1,\n",
        "  \"top_p\": 0.95,\n",
        "  \"top_k\": 0,\n",
        "  \"max_output_tokens\": 8192,\n",
        "}\n",
        "\n",
        "safety_settings = [\n",
        "  {\n",
        "    \"category\": \"HARM_CATEGORY_HARASSMENT\",\n",
        "    \"threshold\": \"BLOCK_MEDIUM_AND_ABOVE\"\n",
        "  },\n",
        "  {\n",
        "    \"category\": \"HARM_CATEGORY_HATE_SPEECH\",\n",
        "    \"threshold\": \"BLOCK_MEDIUM_AND_ABOVE\"\n",
        "  },\n",
        "  {\n",
        "    \"category\": \"HARM_CATEGORY_SEXUALLY_EXPLICIT\",\n",
        "    \"threshold\": \"BLOCK_MEDIUM_AND_ABOVE\"\n",
        "  },\n",
        "  {\n",
        "    \"category\": \"HARM_CATEGORY_DANGEROUS_CONTENT\",\n",
        "    \"threshold\": \"BLOCK_MEDIUM_AND_ABOVE\"\n",
        "  },\n",
        "]\n",
        "\n",
        "system_instruction = \"Você é um coach financeiro.\\nPara quem tem dívidas, monte um plano de recuperação financeira e depois liste um OKR (Objective, Key-Results) para que ele possa sair da dívida considerando somente o orçamento que ele der.\\nPara quem é investidor, verifique o perfil de risco de cada um, e sugira um plano de investimento (com sugestôes de alocações) e faça um OKR (Objective, Key-Results) para que ele possa investir.\\nPara quem tem um perfil agressivo, inclua na alocação criptomoedas.\"\n",
        "\n",
        "model = genai.GenerativeModel(model_name=\"gemini-1.5-pro-latest\",\n",
        "                              generation_config=generation_config,\n",
        "                              system_instruction=system_instruction,\n",
        "                              safety_settings=safety_settings)"
      ],
      "metadata": {
        "id": "ImEvWMSi5_bI"
      },
      "execution_count": 100,
      "outputs": []
    },
    {
      "cell_type": "code",
      "source": [
        "\n"
      ],
      "metadata": {
        "id": "1hiJJMLz9YkL"
      },
      "execution_count": 100,
      "outputs": []
    },
    {
      "cell_type": "markdown",
      "source": [
        "## Lógica de perguntas do Coach Financeiro"
      ],
      "metadata": {
        "id": "M3TD_tR2E3ES"
      }
    },
    {
      "cell_type": "code",
      "source": [
        "endividado = input(\"você está endividado? (sim ou não) \")\n",
        "if len(endividado) != 0:\n",
        "  if endividado.lower() == 'sim' or endividado.lower() == 's':\n",
        "    endividado = True\n",
        "    valor_divida = input(\"Qual o valor da dívida? \")\n",
        "    juros = input(\"Qual é o juros da dívida? \")\n",
        "  else:\n",
        "    endividado = False\n",
        "\n",
        "valor_consigo_guardar = input(\"quanto você consegue poupar por mês?\")\n",
        "\n",
        "inputstring = \"\"\n",
        "if endividado:\n",
        "  inputstring = \"Estou endividado, consigo poupar \" + valor_consigo_guardar + \" reais por mês, minha dívida é de \" + valor_divida + \" e o juros é de \" + juros + \" . Gostaria de sair o mais rápido possível dessa dívida. Considere o valor poupado apenas para recuperação financeira.\"\n",
        "else:\n",
        "  meu_perfil = input(\"qual o seu perfil de risco? conservador/moderado/arrojado?\")\n",
        "  inputstring = \"Não endividado, quero investir \" + valor_consigo_guardar + \" reais por mês, meu perfil é \" + meu_perfil\n",
        "\n",
        "print(inputstring)"
      ],
      "metadata": {
        "colab": {
          "base_uri": "https://localhost:8080/"
        },
        "id": "QpLs9Mei9pQs",
        "outputId": "e94a5274-cae4-48b0-fcf8-2ac4a969b1f7"
      },
      "execution_count": 101,
      "outputs": [
        {
          "output_type": "stream",
          "name": "stdout",
          "text": [
            "você está endividado? (sim ou não) n\n",
            "quanto você consegue poupar por mês?mil reais\n",
            "qual o seu perfil de risco? conservador/moderado/arrojado?arrojado\n",
            "Não endividado, quero investir mil reais reais por mês, meu perfil é arrojado\n"
          ]
        }
      ]
    },
    {
      "cell_type": "code",
      "source": [
        "convo = model.start_chat()\n",
        "convo.send_message(inputstring)\n"
      ],
      "metadata": {
        "colab": {
          "base_uri": "https://localhost:8080/",
          "height": 573
        },
        "id": "jOnMvUDM8F2f",
        "outputId": "209a19c7-d36d-40de-a362-2dd4ac11eb3c"
      },
      "execution_count": 102,
      "outputs": [
        {
          "output_type": "execute_result",
          "data": {
            "text/plain": [
              "response:\n",
              "GenerateContentResponse(\n",
              "    done=True,\n",
              "    iterator=None,\n",
              "    result=glm.GenerateContentResponse({'candidates': [{'content': {'parts': [{'text': '## Plano de Investimento e OKR para Investidor Arrojado\\n\\n**Perfil de Investidor:** Arrojado\\n\\n**Aporte Mensal:** R$1.000,00\\n\\n**Objetivo:** Investir com foco em maior rentabilidade, assumindo riscos mais elevados.\\n\\n**Alocação Sugerida:**\\n\\n* **Renda Variável (70%):**\\n    * **Ações (40%):** Foco em empresas com alto potencial de crescimento, incluindo small caps e setores inovadores.\\n    * **Fundos Imobiliários (15%):** Diversificação em diferentes tipos de imóveis para geração de renda passiva.\\n    * **ETFs de Renda Variável (15%):** Exposição a índices de mercado como Ibovespa ou S&P 500 para diversificação. \\n* **Criptomoedas (20%):** Investimento em Bitcoin e Ethereum, com possibilidade de alocação em altcoins com alto potencial.\\n* **Renda Fixa (10%):** Tesouro Selic como reserva de emergência e para balancear a carteira. \\n\\n**OKR - Objetivo e Resultados-Chave**\\n\\n**Objetivo:** Aumentar o patrimônio investido em 25% até novembro de 2024.\\n\\n**Resultados-Chave:**\\n\\n* **KR1:** Investir R$1.000,00 por mês, totalizando R$12.000,00 até novembro de 2024.\\n* **KR2:** Obter uma rentabilidade média de 2% ao mês na carteira de renda variável.\\n* **KR3:** Manter a alocação de criptomoedas em 20% da carteira.\\n* **KR4:** Acompanhar o desempenho dos investimentos mensalmente e rebalancear a carteira a cada trimestre.\\n\\n**Observações:**\\n\\n* Este plano é apenas uma sugestão e deve ser ajustado de acordo com as suas necessidades e objetivos específicos.\\n* É importante realizar uma pesquisa aprofundada antes de investir em qualquer ativo, principalmente em criptomoedas.\\n* Lembre-se de que investimentos de alto risco podem gerar alta rentabilidade, mas também apresentam maior possibilidade de perdas. \\n\\n**Recomendações:**\\n\\n* **Diversificação:** Não coloque todos os ovos na mesma cesta. Diversifique seus investimentos em diferentes classes de ativos e setores para reduzir o risco.\\n* **Educação Financeira:** Busque conhecimento sobre o mercado financeiro e os diferentes tipos de investimentos.\\n* **Acompanhamento:** Monitore seus investimentos regularmente e faça ajustes quando necessário.\\n* **Assessoria Financeira:**  Considere a possibilidade de buscar a orientação de um profissional de investimentos para auxiliar na tomada de decisões. \\n'}], 'role': 'model'}, 'finish_reason': 1, 'index': 0, 'safety_ratings': [{'category': 9, 'probability': 1, 'blocked': False}, {'category': 8, 'probability': 1, 'blocked': False}, {'category': 7, 'probability': 1, 'blocked': False}, {'category': 10, 'probability': 1, 'blocked': False}], 'token_count': 0, 'grounding_attributions': []}]}),\n",
              ")"
            ]
          },
          "metadata": {},
          "execution_count": 102
        }
      ]
    },
    {
      "cell_type": "code",
      "source": [
        "print(\"--- texto formatado ---\")\n",
        "display(Markdown(convo.last.text))"
      ],
      "metadata": {
        "colab": {
          "base_uri": "https://localhost:8080/",
          "height": 664
        },
        "id": "cC2PWuXy8HtG",
        "outputId": "bb47b298-92ed-43e8-9ec3-c3778eb3073d"
      },
      "execution_count": 103,
      "outputs": [
        {
          "output_type": "stream",
          "name": "stdout",
          "text": [
            "--- texto formatado ---\n"
          ]
        },
        {
          "output_type": "display_data",
          "data": {
            "text/plain": [
              "<IPython.core.display.Markdown object>"
            ],
            "text/markdown": "## Plano de Investimento e OKR para Investidor Arrojado\n\n**Perfil de Investidor:** Arrojado\n\n**Aporte Mensal:** R$1.000,00\n\n**Objetivo:** Investir com foco em maior rentabilidade, assumindo riscos mais elevados.\n\n**Alocação Sugerida:**\n\n* **Renda Variável (70%):**\n    * **Ações (40%):** Foco em empresas com alto potencial de crescimento, incluindo small caps e setores inovadores.\n    * **Fundos Imobiliários (15%):** Diversificação em diferentes tipos de imóveis para geração de renda passiva.\n    * **ETFs de Renda Variável (15%):** Exposição a índices de mercado como Ibovespa ou S&P 500 para diversificação. \n* **Criptomoedas (20%):** Investimento em Bitcoin e Ethereum, com possibilidade de alocação em altcoins com alto potencial.\n* **Renda Fixa (10%):** Tesouro Selic como reserva de emergência e para balancear a carteira. \n\n**OKR - Objetivo e Resultados-Chave**\n\n**Objetivo:** Aumentar o patrimônio investido em 25% até novembro de 2024.\n\n**Resultados-Chave:**\n\n* **KR1:** Investir R$1.000,00 por mês, totalizando R$12.000,00 até novembro de 2024.\n* **KR2:** Obter uma rentabilidade média de 2% ao mês na carteira de renda variável.\n* **KR3:** Manter a alocação de criptomoedas em 20% da carteira.\n* **KR4:** Acompanhar o desempenho dos investimentos mensalmente e rebalancear a carteira a cada trimestre.\n\n**Observações:**\n\n* Este plano é apenas uma sugestão e deve ser ajustado de acordo com as suas necessidades e objetivos específicos.\n* É importante realizar uma pesquisa aprofundada antes de investir em qualquer ativo, principalmente em criptomoedas.\n* Lembre-se de que investimentos de alto risco podem gerar alta rentabilidade, mas também apresentam maior possibilidade de perdas. \n\n**Recomendações:**\n\n* **Diversificação:** Não coloque todos os ovos na mesma cesta. Diversifique seus investimentos em diferentes classes de ativos e setores para reduzir o risco.\n* **Educação Financeira:** Busque conhecimento sobre o mercado financeiro e os diferentes tipos de investimentos.\n* **Acompanhamento:** Monitore seus investimentos regularmente e faça ajustes quando necessário.\n* **Assessoria Financeira:**  Considere a possibilidade de buscar a orientação de um profissional de investimentos para auxiliar na tomada de decisões. \n"
          },
          "metadata": {}
        }
      ]
    },
    {
      "cell_type": "code",
      "source": [
        "print(\"--- plain text ---\")\n",
        "print(convo.last.text)"
      ],
      "metadata": {
        "colab": {
          "base_uri": "https://localhost:8080/"
        },
        "id": "ESZx4x_iEE8k",
        "outputId": "1902a427-a28c-4f79-dc65-3d3aec870180"
      },
      "execution_count": 104,
      "outputs": [
        {
          "output_type": "stream",
          "name": "stdout",
          "text": [
            "--- plain text ---\n",
            "## Plano de Investimento e OKR para Investidor Arrojado\n",
            "\n",
            "**Perfil de Investidor:** Arrojado\n",
            "\n",
            "**Aporte Mensal:** R$1.000,00\n",
            "\n",
            "**Objetivo:** Investir com foco em maior rentabilidade, assumindo riscos mais elevados.\n",
            "\n",
            "**Alocação Sugerida:**\n",
            "\n",
            "* **Renda Variável (70%):**\n",
            "    * **Ações (40%):** Foco em empresas com alto potencial de crescimento, incluindo small caps e setores inovadores.\n",
            "    * **Fundos Imobiliários (15%):** Diversificação em diferentes tipos de imóveis para geração de renda passiva.\n",
            "    * **ETFs de Renda Variável (15%):** Exposição a índices de mercado como Ibovespa ou S&P 500 para diversificação. \n",
            "* **Criptomoedas (20%):** Investimento em Bitcoin e Ethereum, com possibilidade de alocação em altcoins com alto potencial.\n",
            "* **Renda Fixa (10%):** Tesouro Selic como reserva de emergência e para balancear a carteira. \n",
            "\n",
            "**OKR - Objetivo e Resultados-Chave**\n",
            "\n",
            "**Objetivo:** Aumentar o patrimônio investido em 25% até novembro de 2024.\n",
            "\n",
            "**Resultados-Chave:**\n",
            "\n",
            "* **KR1:** Investir R$1.000,00 por mês, totalizando R$12.000,00 até novembro de 2024.\n",
            "* **KR2:** Obter uma rentabilidade média de 2% ao mês na carteira de renda variável.\n",
            "* **KR3:** Manter a alocação de criptomoedas em 20% da carteira.\n",
            "* **KR4:** Acompanhar o desempenho dos investimentos mensalmente e rebalancear a carteira a cada trimestre.\n",
            "\n",
            "**Observações:**\n",
            "\n",
            "* Este plano é apenas uma sugestão e deve ser ajustado de acordo com as suas necessidades e objetivos específicos.\n",
            "* É importante realizar uma pesquisa aprofundada antes de investir em qualquer ativo, principalmente em criptomoedas.\n",
            "* Lembre-se de que investimentos de alto risco podem gerar alta rentabilidade, mas também apresentam maior possibilidade de perdas. \n",
            "\n",
            "**Recomendações:**\n",
            "\n",
            "* **Diversificação:** Não coloque todos os ovos na mesma cesta. Diversifique seus investimentos em diferentes classes de ativos e setores para reduzir o risco.\n",
            "* **Educação Financeira:** Busque conhecimento sobre o mercado financeiro e os diferentes tipos de investimentos.\n",
            "* **Acompanhamento:** Monitore seus investimentos regularmente e faça ajustes quando necessário.\n",
            "* **Assessoria Financeira:**  Considere a possibilidade de buscar a orientação de um profissional de investimentos para auxiliar na tomada de decisões. \n",
            "\n"
          ]
        }
      ]
    }
  ]
}